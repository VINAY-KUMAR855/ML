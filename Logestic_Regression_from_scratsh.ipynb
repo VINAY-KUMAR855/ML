{
 "cells": [
  {
   "cell_type": "code",
   "execution_count": 7,
   "id": "90d92675",
   "metadata": {},
   "outputs": [],
   "source": [
    "import numpy as np"
   ]
  },
  {
   "cell_type": "code",
   "execution_count": 8,
   "id": "1e6ca229",
   "metadata": {},
   "outputs": [],
   "source": [
    "class Logestic_regression():\n",
    "    def __init__(self,learning_rate,no_of_epochs):\n",
    "        self.learning_rate = learning_rate\n",
    "        self.no_of_epochs = no_of_epochs\n",
    "        \n",
    "    def fit(self,X,Y):\n",
    "        self.m,self.n = X.shape\n",
    "        self.w = np.zeros(self.n)\n",
    "        self.b = 0\n",
    "        self.X = X\n",
    "        self.Y = Y\n",
    "        for i in range(self.no_of_epochs):\n",
    "            self.update_weigths()\n",
    "    def update_weigths(self):\n",
    "        Y_hat = 1/(1+np.exp(-(self.X.dot(self.w)+self.b)))\n",
    "        \n",
    "        dw = (1/self.m)*np.dot(self.X.T, (Y_hat - self.Y))\n",
    "        db = (1/self.m)*(Y_hat-self.Y)  \n",
    "        \n",
    "        self.w = self.w-self.learning_rate*dw\n",
    "        self.b = self.b-self.learning_rate*db\n",
    "                    \n",
    "    def predict(self,X):\n",
    "        Y_pred = 1/(1+np.exp(-(X.dot(self.w)+self.b)))\n",
    "        Y_pred = np.where(Y_pred>0.5,1,0)\n",
    "        return Y_pred"
   ]
  },
  {
   "cell_type": "code",
   "execution_count": null,
   "id": "905eb507",
   "metadata": {},
   "outputs": [],
   "source": []
  }
 ],
 "metadata": {
  "kernelspec": {
   "display_name": "Python 3 (ipykernel)",
   "language": "python",
   "name": "python3"
  },
  "language_info": {
   "codemirror_mode": {
    "name": "ipython",
    "version": 3
   },
   "file_extension": ".py",
   "mimetype": "text/x-python",
   "name": "python",
   "nbconvert_exporter": "python",
   "pygments_lexer": "ipython3",
   "version": "3.12.3"
  }
 },
 "nbformat": 4,
 "nbformat_minor": 5
}
