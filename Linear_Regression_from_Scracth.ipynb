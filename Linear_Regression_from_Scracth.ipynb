{
 "cells": [
  {
   "cell_type": "code",
   "execution_count": 8,
   "id": "6d5fa6a8",
   "metadata": {},
   "outputs": [],
   "source": [
    "import numpy as np"
   ]
  },
  {
   "cell_type": "code",
   "execution_count": 9,
   "id": "b3436c11",
   "metadata": {},
   "outputs": [],
   "source": [
    "class Linear_Regression():\n",
    "    \n",
    "    def __init__(self, learning_rate, no_of_iterations):\n",
    "        self.learning_rate = learning_rate\n",
    "        self.no_of_iterations = no_of_iterations\n",
    "        \n",
    "    def fit(self, X, Y):\n",
    "        self.m, self.n = X.shape # number of rows & columns\n",
    "        \n",
    "        self.w = np.zeros(self.n)\n",
    "        self.b = 0\n",
    "        self.X =X\n",
    "        self.Y = Y.reshape(self.m)\n",
    "        #implement gradient decent\n",
    "        for i in range(self.no_of_iterations):\n",
    "            self.update_weigths()\n",
    "        \n",
    "    def update_weigths(self):\n",
    "        Y_prediction = self.predict(self.X)\n",
    "        \n",
    "        dw = -(2* (self.X.T).dot(self.Y-Y_prediction))/self.m\n",
    "        db = -2*np.sum(self.Y-Y_prediction)/self.m\n",
    "        #updating weights\n",
    "        self.w = self.w - self.learning_rate*dw\n",
    "        self.b = self.b - self.learning_rate*db\n",
    "    def predict(self,X):\n",
    "        return X.dot(self.w)+self.b\n"
   ]
  },
  {
   "cell_type": "code",
   "execution_count": null,
   "id": "093b3547",
   "metadata": {},
   "outputs": [],
   "source": []
  },
  {
   "cell_type": "code",
   "execution_count": null,
   "id": "d9831cbb",
   "metadata": {},
   "outputs": [],
   "source": []
  }
 ],
 "metadata": {
  "kernelspec": {
   "display_name": "Python 3 (ipykernel)",
   "language": "python",
   "name": "python3"
  },
  "language_info": {
   "codemirror_mode": {
    "name": "ipython",
    "version": 3
   },
   "file_extension": ".py",
   "mimetype": "text/x-python",
   "name": "python",
   "nbconvert_exporter": "python",
   "pygments_lexer": "ipython3",
   "version": "3.12.3"
  }
 },
 "nbformat": 4,
 "nbformat_minor": 5
}
